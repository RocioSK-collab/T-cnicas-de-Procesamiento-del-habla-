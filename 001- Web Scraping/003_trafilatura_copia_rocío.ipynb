{
  "nbformat": 4,
  "nbformat_minor": 0,
  "metadata": {
    "colab": {
      "provenance": []
    },
    "kernelspec": {
      "name": "python3",
      "display_name": "Python 3"
    },
    "language_info": {
      "name": "python"
    }
  },
  "cells": [
    {
      "cell_type": "code",
      "metadata": {
        "id": "2c96009f",
        "colab": {
          "base_uri": "https://localhost:8080/"
        },
        "outputId": "aa5d9d8b-dc81-4666-dd30-d0c2a558625d"
      },
      "source": [
        "!pip install trafilatura -q"
      ],
      "execution_count": null,
      "outputs": [
        {
          "output_type": "stream",
          "name": "stdout",
          "text": [
            "\u001b[2K   \u001b[90m━━━━━━━━━━━━━━━━━━━━━━━━━━━━━━━━━━━━━━━━\u001b[0m \u001b[32m132.6/132.6 kB\u001b[0m \u001b[31m4.1 MB/s\u001b[0m eta \u001b[36m0:00:00\u001b[0m\n",
            "\u001b[2K   \u001b[90m━━━━━━━━━━━━━━━━━━━━━━━━━━━━━━━━━━━━━━━━\u001b[0m \u001b[32m837.9/837.9 kB\u001b[0m \u001b[31m22.2 MB/s\u001b[0m eta \u001b[36m0:00:00\u001b[0m\n",
            "\u001b[2K   \u001b[90m━━━━━━━━━━━━━━━━━━━━━━━━━━━━━━━━━━━━━━━━\u001b[0m \u001b[32m315.5/315.5 kB\u001b[0m \u001b[31m14.0 MB/s\u001b[0m eta \u001b[36m0:00:00\u001b[0m\n",
            "\u001b[2K   \u001b[90m━━━━━━━━━━━━━━━━━━━━━━━━━━━━━━━━━━━━━━━━\u001b[0m \u001b[32m274.7/274.7 kB\u001b[0m \u001b[31m16.7 MB/s\u001b[0m eta \u001b[36m0:00:00\u001b[0m\n",
            "\u001b[?25h"
          ]
        }
      ]
    },
    {
      "cell_type": "code",
      "source": [
        "import trafilatura"
      ],
      "metadata": {
        "id": "TsRc2539iHMR"
      },
      "execution_count": null,
      "outputs": []
    },
    {
      "cell_type": "code",
      "execution_count": null,
      "metadata": {
        "id": "h-CR7MtHiCQC"
      },
      "outputs": [],
      "source": [
        "url = \"https://www.pagina12.com.ar/849012-taylor-swift-anuncia-el-lanzamiento-de-su-nuevo-disco-the-li\""
      ]
    },
    {
      "cell_type": "code",
      "source": [
        "downloaded = trafilatura.fetch_url(url)\n",
        "text = trafilatura.extract(downloaded, include_comments=False, include_images=False)\n",
        "print(text)"
      ],
      "metadata": {
        "colab": {
          "base_uri": "https://localhost:8080/"
        },
        "id": "sD053fO9ikeF",
        "outputId": "d1dcb2c5-d6b4-4383-9030-8119296500ca"
      },
      "execution_count": null,
      "outputs": [
        {
          "output_type": "stream",
          "name": "stdout",
          "text": [
            "Taylor Swift anunció la preventa de su nuevo álbum, titulado \"The Life of a Showgirl\". La novedad se dio a conocer esta medianoche y en su web oficial se publicaron las primeras imágenes, difuminadas, de un vinilo, un CD y un casete con un candado que no deja ver cómo será la portada porque será \"revelada en una fecha posterior\".\n",
            "Aunque se reveló el título de su nuevo trabajo de estudio, el número 12 de su carrera, no se indicó cuándo será su lanzamiento oficial. De todos modos, se anticipó que quienes compren el disco en esta preventa lo recibirán antes del 13 de octubre.\n",
            "\"Quería mostrarles algo\", publió la estrella pop estadounidense en un video publicado en su Instagram mientras, sostiene un disco de vinilo con la portada completamente borrosa.\n",
            "\"Este es mi nuevo álbum: 'The Life of a Show Girl'\", agregó en la grabación, en el podcast de su novio, el jugador de fútbol americano Travis Kelce, y su hermano, el exjugador de la NFL Jason Kelce.\n",
            "\"The Life of a Showgirl\" es el sucesor del álbum \"The Tortured Poets Department\", que se publicó el año pasado y vendió 1,4 millones de copias el primer día.\n",
            "En mayo, la ganadora de 14 premios Grammy, que mantenía una disputa con ejecutivos discográficos desde 2019 por la propiedad de su música, anunció que había comprado todo su catálogo por una suma no revelada.\n",
            "La estrella, de 35 años, viene de batir récords con su gira \"Eras\", de casi dos años de duración. Recaudó 2.000 millones de dólares en 149 conciertos en todo el mundo, lo que la convirtió en el tour más lucrativo de la historia de la música.\n"
          ]
        }
      ]
    },
    {
      "cell_type": "code",
      "metadata": {
        "colab": {
          "base_uri": "https://localhost:8080/",
          "height": 98
        },
        "id": "9f5412d9",
        "outputId": "26529735-2d53-4a52-95d6-481be663238e"
      },
      "source": [
        "import pandas as pd\n",
        "import trafilatura\n",
        "\n",
        "def obtener_texto_articulo(url):\n",
        "    \"\"\"\n",
        "    Obtiene y extrae texto de una URL dada usando trafilatura.\n",
        "\n",
        "    Args:\n",
        "        url (str): La URL del artículo.\n",
        "\n",
        "    Returns:\n",
        "        str: El texto extraído del artículo, o un mensaje de error si la obtención o extracción falla.\n",
        "    \"\"\"\n",
        "    try:\n",
        "        descargado = trafilatura.fetch_url(url)\n",
        "        if descargado:\n",
        "            texto = trafilatura.extract(descargado, include_comments=False, include_images=False)\n",
        "            if texto:\n",
        "                return texto\n",
        "            else:\n",
        "                return \"No se pudo extraer texto de la URL.\"\n",
        "        else:\n",
        "            return \"No se pudo obtener la URL.\"\n",
        "    except Exception as e:\n",
        "        return f\"Ocurrió un error: {e}\"\n",
        "\n",
        "# Lista de URLs para construir el corpus (puedes modificar esta lista)\n",
        "urls = [\n",
        "    \"https://www.pagina12.com.ar/849012-taylor-swift-anuncia-el-lanzamiento-de-su-nuevo-disco-the-li\",\n",
        "    # Agrega más URLs aquí si es necesario\n",
        "]\n",
        "\n",
        "# Crear una lista para almacenar los datos\n",
        "corpus_data = []\n",
        "\n",
        "# Iterar sobre las URLs y extraer el texto\n",
        "for url in urls:\n",
        "    print(f\"Procesando: {url}\")\n",
        "    texto_extraido = obtener_texto_articulo(url)\n",
        "    corpus_data.append({'URL': url, 'Texto': texto_extraido})\n",
        "\n",
        "# Crear el DataFrame de pandas\n",
        "df_corpus = pd.DataFrame(corpus_data)\n",
        "\n",
        "# Mostrar las primeras filas del DataFrame\n",
        "display(df_corpus.head())"
      ],
      "execution_count": null,
      "outputs": [
        {
          "output_type": "stream",
          "name": "stdout",
          "text": [
            "Procesando: https://www.pagina12.com.ar/849012-taylor-swift-anuncia-el-lanzamiento-de-su-nuevo-disco-the-li\n"
          ]
        },
        {
          "output_type": "display_data",
          "data": {
            "text/plain": [
              "                                                 URL  \\\n",
              "0  https://www.pagina12.com.ar/849012-taylor-swif...   \n",
              "\n",
              "                                               Texto  \n",
              "0  Taylor Swift anunció la preventa de su nuevo á...  "
            ],
            "text/html": [
              "\n",
              "  <div id=\"df-d1bc9e11-9941-4a10-be6b-caaea758ed11\" class=\"colab-df-container\">\n",
              "    <div>\n",
              "<style scoped>\n",
              "    .dataframe tbody tr th:only-of-type {\n",
              "        vertical-align: middle;\n",
              "    }\n",
              "\n",
              "    .dataframe tbody tr th {\n",
              "        vertical-align: top;\n",
              "    }\n",
              "\n",
              "    .dataframe thead th {\n",
              "        text-align: right;\n",
              "    }\n",
              "</style>\n",
              "<table border=\"1\" class=\"dataframe\">\n",
              "  <thead>\n",
              "    <tr style=\"text-align: right;\">\n",
              "      <th></th>\n",
              "      <th>URL</th>\n",
              "      <th>Texto</th>\n",
              "    </tr>\n",
              "  </thead>\n",
              "  <tbody>\n",
              "    <tr>\n",
              "      <th>0</th>\n",
              "      <td>https://www.pagina12.com.ar/849012-taylor-swif...</td>\n",
              "      <td>Taylor Swift anunció la preventa de su nuevo á...</td>\n",
              "    </tr>\n",
              "  </tbody>\n",
              "</table>\n",
              "</div>\n",
              "    <div class=\"colab-df-buttons\">\n",
              "\n",
              "  <div class=\"colab-df-container\">\n",
              "    <button class=\"colab-df-convert\" onclick=\"convertToInteractive('df-d1bc9e11-9941-4a10-be6b-caaea758ed11')\"\n",
              "            title=\"Convert this dataframe to an interactive table.\"\n",
              "            style=\"display:none;\">\n",
              "\n",
              "  <svg xmlns=\"http://www.w3.org/2000/svg\" height=\"24px\" viewBox=\"0 -960 960 960\">\n",
              "    <path d=\"M120-120v-720h720v720H120Zm60-500h600v-160H180v160Zm220 220h160v-160H400v160Zm0 220h160v-160H400v160ZM180-400h160v-160H180v160Zm440 0h160v-160H620v160ZM180-180h160v-160H180v160Zm440 0h160v-160H620v160Z\"/>\n",
              "  </svg>\n",
              "    </button>\n",
              "\n",
              "  <style>\n",
              "    .colab-df-container {\n",
              "      display:flex;\n",
              "      gap: 12px;\n",
              "    }\n",
              "\n",
              "    .colab-df-convert {\n",
              "      background-color: #E8F0FE;\n",
              "      border: none;\n",
              "      border-radius: 50%;\n",
              "      cursor: pointer;\n",
              "      display: none;\n",
              "      fill: #1967D2;\n",
              "      height: 32px;\n",
              "      padding: 0 0 0 0;\n",
              "      width: 32px;\n",
              "    }\n",
              "\n",
              "    .colab-df-convert:hover {\n",
              "      background-color: #E2EBFA;\n",
              "      box-shadow: 0px 1px 2px rgba(60, 64, 67, 0.3), 0px 1px 3px 1px rgba(60, 64, 67, 0.15);\n",
              "      fill: #174EA6;\n",
              "    }\n",
              "\n",
              "    .colab-df-buttons div {\n",
              "      margin-bottom: 4px;\n",
              "    }\n",
              "\n",
              "    [theme=dark] .colab-df-convert {\n",
              "      background-color: #3B4455;\n",
              "      fill: #D2E3FC;\n",
              "    }\n",
              "\n",
              "    [theme=dark] .colab-df-convert:hover {\n",
              "      background-color: #434B5C;\n",
              "      box-shadow: 0px 1px 3px 1px rgba(0, 0, 0, 0.15);\n",
              "      filter: drop-shadow(0px 1px 2px rgba(0, 0, 0, 0.3));\n",
              "      fill: #FFFFFF;\n",
              "    }\n",
              "  </style>\n",
              "\n",
              "    <script>\n",
              "      const buttonEl =\n",
              "        document.querySelector('#df-d1bc9e11-9941-4a10-be6b-caaea758ed11 button.colab-df-convert');\n",
              "      buttonEl.style.display =\n",
              "        google.colab.kernel.accessAllowed ? 'block' : 'none';\n",
              "\n",
              "      async function convertToInteractive(key) {\n",
              "        const element = document.querySelector('#df-d1bc9e11-9941-4a10-be6b-caaea758ed11');\n",
              "        const dataTable =\n",
              "          await google.colab.kernel.invokeFunction('convertToInteractive',\n",
              "                                                    [key], {});\n",
              "        if (!dataTable) return;\n",
              "\n",
              "        const docLinkHtml = 'Like what you see? Visit the ' +\n",
              "          '<a target=\"_blank\" href=https://colab.research.google.com/notebooks/data_table.ipynb>data table notebook</a>'\n",
              "          + ' to learn more about interactive tables.';\n",
              "        element.innerHTML = '';\n",
              "        dataTable['output_type'] = 'display_data';\n",
              "        await google.colab.output.renderOutput(dataTable, element);\n",
              "        const docLink = document.createElement('div');\n",
              "        docLink.innerHTML = docLinkHtml;\n",
              "        element.appendChild(docLink);\n",
              "      }\n",
              "    </script>\n",
              "  </div>\n",
              "\n",
              "\n",
              "    </div>\n",
              "  </div>\n"
            ],
            "application/vnd.google.colaboratory.intrinsic+json": {
              "type": "dataframe",
              "summary": "{\n  \"name\": \"display(df_corpus\",\n  \"rows\": 1,\n  \"fields\": [\n    {\n      \"column\": \"URL\",\n      \"properties\": {\n        \"dtype\": \"string\",\n        \"num_unique_values\": 1,\n        \"samples\": [\n          \"https://www.pagina12.com.ar/849012-taylor-swift-anuncia-el-lanzamiento-de-su-nuevo-disco-the-li\"\n        ],\n        \"semantic_type\": \"\",\n        \"description\": \"\"\n      }\n    },\n    {\n      \"column\": \"Texto\",\n      \"properties\": {\n        \"dtype\": \"string\",\n        \"num_unique_values\": 1,\n        \"samples\": [\n          \"Taylor Swift anunci\\u00f3 la preventa de su nuevo \\u00e1lbum, titulado \\\"The Life of a Showgirl\\\". La novedad se dio a conocer esta medianoche y en su web oficial se publicaron las primeras im\\u00e1genes, difuminadas, de un vinilo, un CD y un casete con un candado que no deja ver c\\u00f3mo ser\\u00e1 la portada porque ser\\u00e1 \\\"revelada en una fecha posterior\\\".\\nAunque se revel\\u00f3 el t\\u00edtulo de su nuevo trabajo de estudio, el n\\u00famero 12 de su carrera, no se indic\\u00f3 cu\\u00e1ndo ser\\u00e1 su lanzamiento oficial. De todos modos, se anticip\\u00f3 que quienes compren el disco en esta preventa lo recibir\\u00e1n antes del 13 de octubre.\\n\\\"Quer\\u00eda mostrarles algo\\\", publi\\u00f3 la estrella pop estadounidense en un video publicado en su Instagram mientras, sostiene un disco de vinilo con la portada completamente borrosa.\\n\\\"Este es mi nuevo \\u00e1lbum: 'The Life of a Show Girl'\\\", agreg\\u00f3 en la grabaci\\u00f3n, en el podcast de su novio, el jugador de f\\u00fatbol americano Travis Kelce, y su hermano, el exjugador de la NFL Jason Kelce.\\n\\\"The Life of a Showgirl\\\" es el sucesor del \\u00e1lbum \\\"The Tortured Poets Department\\\", que se public\\u00f3 el a\\u00f1o pasado y vendi\\u00f3 1,4 millones de copias el primer d\\u00eda.\\nEn mayo, la ganadora de 14 premios Grammy, que manten\\u00eda una disputa con ejecutivos discogr\\u00e1ficos desde 2019 por la propiedad de su m\\u00fasica, anunci\\u00f3 que hab\\u00eda comprado todo su cat\\u00e1logo por una suma no revelada.\\nLa estrella, de 35 a\\u00f1os, viene de batir r\\u00e9cords con su gira \\\"Eras\\\", de casi dos a\\u00f1os de duraci\\u00f3n. Recaud\\u00f3 2.000 millones de d\\u00f3lares en 149 conciertos en todo el mundo, lo que la convirti\\u00f3 en el tour m\\u00e1s lucrativo de la historia de la m\\u00fasica.\"\n        ],\n        \"semantic_type\": \"\",\n        \"description\": \"\"\n      }\n    }\n  ]\n}"
            }
          },
          "metadata": {}
        }
      ]
    },
    {
      "cell_type": "code",
      "metadata": {
        "colab": {
          "base_uri": "https://localhost:8080/"
        },
        "id": "8f6e7378",
        "outputId": "37559367-7118-4bc7-fb4b-a6f3ea5805df"
      },
      "source": [
        "# Iterar sobre las filas del DataFrame e imprimir el texto completo\n",
        "for index, row in df_corpus.iterrows():\n",
        "    print(f\"--- Texto del artículo de la URL: {row['URL']} ---\")\n",
        "    print(row['Texto'])\n",
        "    print(\"-\" * 30) # Separador entre artículos"
      ],
      "execution_count": null,
      "outputs": [
        {
          "output_type": "stream",
          "name": "stdout",
          "text": [
            "--- Texto del artículo de la URL: https://www.pagina12.com.ar/849012-taylor-swift-anuncia-el-lanzamiento-de-su-nuevo-disco-the-li ---\n",
            "Taylor Swift anunció la preventa de su nuevo álbum, titulado \"The Life of a Showgirl\". La novedad se dio a conocer esta medianoche y en su web oficial se publicaron las primeras imágenes, difuminadas, de un vinilo, un CD y un casete con un candado que no deja ver cómo será la portada porque será \"revelada en una fecha posterior\".\n",
            "Aunque se reveló el título de su nuevo trabajo de estudio, el número 12 de su carrera, no se indicó cuándo será su lanzamiento oficial. De todos modos, se anticipó que quienes compren el disco en esta preventa lo recibirán antes del 13 de octubre.\n",
            "\"Quería mostrarles algo\", publió la estrella pop estadounidense en un video publicado en su Instagram mientras, sostiene un disco de vinilo con la portada completamente borrosa.\n",
            "\"Este es mi nuevo álbum: 'The Life of a Show Girl'\", agregó en la grabación, en el podcast de su novio, el jugador de fútbol americano Travis Kelce, y su hermano, el exjugador de la NFL Jason Kelce.\n",
            "\"The Life of a Showgirl\" es el sucesor del álbum \"The Tortured Poets Department\", que se publicó el año pasado y vendió 1,4 millones de copias el primer día.\n",
            "En mayo, la ganadora de 14 premios Grammy, que mantenía una disputa con ejecutivos discográficos desde 2019 por la propiedad de su música, anunció que había comprado todo su catálogo por una suma no revelada.\n",
            "La estrella, de 35 años, viene de batir récords con su gira \"Eras\", de casi dos años de duración. Recaudó 2.000 millones de dólares en 149 conciertos en todo el mundo, lo que la convirtió en el tour más lucrativo de la historia de la música.\n",
            "------------------------------\n"
          ]
        }
      ]
    },
    {
      "cell_type": "code",
      "source": [
        "# También podes acceder al texto de un artículo específico por su índice\n",
        "# Por ejemplo, para el primer artículo (índice 0):\n",
        "print(df_corpus.loc[0, 'Texto'])"
      ],
      "metadata": {
        "colab": {
          "base_uri": "https://localhost:8080/"
        },
        "id": "K-fDxmByNj3g",
        "outputId": "d8cffa2f-8eaa-483f-93b8-b33f75276e88"
      },
      "execution_count": null,
      "outputs": [
        {
          "output_type": "stream",
          "name": "stdout",
          "text": [
            "Taylor Swift anunció la preventa de su nuevo álbum, titulado \"The Life of a Showgirl\". La novedad se dio a conocer esta medianoche y en su web oficial se publicaron las primeras imágenes, difuminadas, de un vinilo, un CD y un casete con un candado que no deja ver cómo será la portada porque será \"revelada en una fecha posterior\".\n",
            "Aunque se reveló el título de su nuevo trabajo de estudio, el número 12 de su carrera, no se indicó cuándo será su lanzamiento oficial. De todos modos, se anticipó que quienes compren el disco en esta preventa lo recibirán antes del 13 de octubre.\n",
            "\"Quería mostrarles algo\", publió la estrella pop estadounidense en un video publicado en su Instagram mientras, sostiene un disco de vinilo con la portada completamente borrosa.\n",
            "\"Este es mi nuevo álbum: 'The Life of a Show Girl'\", agregó en la grabación, en el podcast de su novio, el jugador de fútbol americano Travis Kelce, y su hermano, el exjugador de la NFL Jason Kelce.\n",
            "\"The Life of a Showgirl\" es el sucesor del álbum \"The Tortured Poets Department\", que se publicó el año pasado y vendió 1,4 millones de copias el primer día.\n",
            "En mayo, la ganadora de 14 premios Grammy, que mantenía una disputa con ejecutivos discográficos desde 2019 por la propiedad de su música, anunció que había comprado todo su catálogo por una suma no revelada.\n",
            "La estrella, de 35 años, viene de batir récords con su gira \"Eras\", de casi dos años de duración. Recaudó 2.000 millones de dólares en 149 conciertos en todo el mundo, lo que la convirtió en el tour más lucrativo de la historia de la música.\n"
          ]
        }
      ]
    },
    {
      "cell_type": "markdown",
      "source": [
        "#EXLICACIÓN DEL CÓDIGO\n",
        "\n",
        "Instalación de la librería trafilatura: El primer paso es instalar la librería trafilatura usando !pip install trafilatura -q. Esta librería se utiliza para descargar y extraer texto de páginas web. El -q es para que la instalación sea silenciosa.\n",
        "Importación de librerías: Se importan las librerías necesarias: trafilatura para la extracción de texto y pandas para trabajar con DataFrames.\n",
        "Definición de la URL: Se define una variable url con la dirección web del artículo que se desea procesar.\n",
        "Descarga y extracción inicial: Se descarga el contenido de la url usando trafilatura.fetch_url(url) y luego se extrae el texto principal del contenido descargado con trafilatura.extract(). Se excluyen comentarios e imágenes con include_comments=False y include_images=False. Finalmente, se imprime el texto extraído.\n",
        "Creación de una función para obtener texto de artículos: Se define una función llamada obtener_texto_articulo que toma una URL como argumento. Esta función se encarga de descargar el contenido de la URL, extraer el texto y manejar posibles errores durante el proceso de descarga o extracción. Devuelve el texto extraído o un mensaje de error si algo sale mal.\n",
        "Lista de URLs para el corpus: Se crea una lista llamada urls que contiene las URLs de los artículos que se utilizarán para construir el corpus. En este caso, solo hay una URL, pero podrías agregar más.\n",
        "Creación del DataFrame: Se inicializa una lista vacía llamada corpus_data para almacenar los datos (URL y texto) de cada artículo. Luego, se itera sobre la lista de urls. En cada iteración, se llama a la función obtener_texto_articulo para obtener el texto de la URL actual y se agrega un diccionario con la URL y el texto a la lista corpus_data. Finalmente, se crea un DataFrame de pandas (df_corpus) a partir de la lista corpus_data.\n",
        "Mostrar las primeras filas del DataFrame: Se muestra la cabecera del DataFrame df_corpus para ver cómo se ven los datos.\n",
        "Imprimir el texto de cada artículo: Se itera sobre las filas del DataFrame df_corpus y se imprime la URL y el texto completo de cada artículo.\n",
        "Acceder a un artículo específico por índice: Se muestra cómo acceder al texto de un artículo específico utilizando su índice en el DataFrame. En este caso, se imprime el texto del primer artículo (índice 0).\n",
        "\n",
        "\n",
        "En resumen, el código instala una librería para extraer texto de la web, la utiliza para obtener el contenido de una URL específica, define una función para automatizar este proceso para múltiples URLs, crea un DataFrame de pandas para almacenar las URLs y sus textos correspondientes, y finalmente muestra cómo acceder e imprimir el contenido de los artículos dentro del DataFrame.\n"
      ],
      "metadata": {
        "id": "pyRye89AYRsi"
      }
    }
  ]
}