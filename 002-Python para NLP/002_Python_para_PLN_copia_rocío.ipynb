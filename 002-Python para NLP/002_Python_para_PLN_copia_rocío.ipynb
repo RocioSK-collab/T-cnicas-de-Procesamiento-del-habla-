{
  "nbformat": 4,
  "nbformat_minor": 0,
  "metadata": {
    "colab": {
      "provenance": []
    },
    "kernelspec": {
      "name": "python3",
      "display_name": "Python 3"
    },
    "language_info": {
      "name": "python"
    }
  },
  "cells": [
    {
      "cell_type": "markdown",
      "source": [
        "# Clase 2: Estructuras Avanzadas y Aplicaciones en PLN 🛠️\n",
        "\n",
        "Ya vimos los elementos minimos fudamentales de Python (variables, condicionales). Hoy, vamos a construir con ellos: crearemos herramientas reutilizables, organizaremos nuestro código de manera profesional y, al final, ¡construiremos una aplicación web interactiva para analizar texto!\n",
        "\n",
        "## Hoja de Ruta (2 horas)\n",
        "1.  **Calentamiento: Manipulación Avanzada de Texto** (20 min)\n",
        "2.  **Funciones: Creando Herramientas a Medida** (25 min)\n",
        "3.  **Programación Orientada a Objetos (POO): El Salto a un Código Profesional** (30 min)\n",
        "4.  **Ejercicio Práctico 1: Expandiendo Nuestras Clases** (15 min)\n",
        "5.  **Ejercicio Integrador Final: De Python a Aplicación Web con Gradio** (30 min)"
      ],
      "metadata": {
        "id": "Ygt4gGWFEfI1"
      }
    },
    {
      "cell_type": "markdown",
      "source": [
        "## 1. Calentamiento: Manipulación Avanzada de Texto\n",
        "\n",
        "En PLN, el 90% del trabajo es \"limpiar\" y \"preparar\" el texto. Por suerte, los strings en Python vienen con \"superpoderes\" incorporados llamados **métodos**, que nos facilitan enormemente esta tarea."
      ],
      "metadata": {
        "id": "Mw127D_FE0MO"
      }
    },
    {
      "cell_type": "code",
      "execution_count": null,
      "metadata": {
        "id": "ibQ7oC8eEayh"
      },
      "outputs": [],
      "source": [
        "# Métodos útiles de strings que usaremos constantemente\n",
        "texto = \"  Procesamiento del Lenguaje Natural en el Rio de la Plata \""
      ]
    },
    {
      "cell_type": "code",
      "source": [
        "# .strip() -> Elimina espacios en blanco al inicio y al final\n",
        "print(f\"Original: '{texto}'\")\n",
        "print(\"Original: \", texto) # Agregamos la coma aquí\n",
        "print(f\"Con .strip(): '{texto.strip()}'\")"
      ],
      "metadata": {
        "id": "yYtXp_NIFEY3",
        "colab": {
          "base_uri": "https://localhost:8080/"
        },
        "outputId": "5e66645f-719d-46c9-bec5-627324257e03"
      },
      "execution_count": null,
      "outputs": [
        {
          "output_type": "stream",
          "name": "stdout",
          "text": [
            "Original: '  Procesamiento del Lenguaje Natural en el Rio de la Plata '\n",
            "Original:    Procesamiento del Lenguaje Natural en el Rio de la Plata \n",
            "Con .strip(): 'Procesamiento del Lenguaje Natural en el Rio de la Plata'\n"
          ]
        }
      ]
    },
    {
      "cell_type": "code",
      "source": [
        "# .lower() y .upper() -> Convierten a minúsculas y mayúsculas\n",
        "print(f\"Con .lower(): '{texto.lower()}'\")\n",
        "print(f\"Con .upper(): '{texto.upper()}'\")"
      ],
      "metadata": {
        "id": "uePcJAMeFEV0",
        "colab": {
          "base_uri": "https://localhost:8080/"
        },
        "outputId": "2e92e248-fe4d-4caf-c71d-197b33017bda"
      },
      "execution_count": null,
      "outputs": [
        {
          "output_type": "stream",
          "name": "stdout",
          "text": [
            "Con .lower(): '  procesamiento del lenguaje natural en el rio de la plata '\n",
            "Con .upper(): '  PROCESAMIENTO DEL LENGUAJE NATURAL EN EL RIO DE LA PLATA '\n"
          ]
        }
      ]
    },
    {
      "cell_type": "code",
      "source": [
        "# .replace('viejo', 'nuevo') -> Reemplaza una parte del texto por otra\n",
        "print(f\"Con .replace(): '{texto.replace('Lenguaje', 'Idioma')}'\")"
      ],
      "metadata": {
        "id": "cNL8q9u1FEMF",
        "outputId": "1789c7e3-cb2f-4c54-8987-7db5852c1240",
        "colab": {
          "base_uri": "https://localhost:8080/"
        }
      },
      "execution_count": null,
      "outputs": [
        {
          "output_type": "stream",
          "name": "stdout",
          "text": [
            "Con .replace(): '  Procesamiento del Idioma Natural en el Rio de la Plata '\n"
          ]
        }
      ]
    },
    {
      "cell_type": "code",
      "source": [
        "# .split() -> Divide un string en una lista de palabras (¡lo vimos en la Clase 1!)\n",
        "print(f\"Con .split(): {texto.split()}\")"
      ],
      "metadata": {
        "id": "0CcFm_tjFEJY",
        "outputId": "b4dece74-027f-42a2-a187-59238cd63a95",
        "colab": {
          "base_uri": "https://localhost:8080/"
        }
      },
      "execution_count": null,
      "outputs": [
        {
          "output_type": "stream",
          "name": "stdout",
          "text": [
            "Con .split(): ['Procesamiento', 'del', 'Lenguaje', 'Natural', 'en', 'el', 'Rio', 'de', 'la', 'Plata']\n"
          ]
        }
      ]
    },
    {
      "cell_type": "code",
      "source": [
        "# 'separador'.join(lista) -> Une los elementos de una lista en un solo string\n",
        "palabras_a_unir = [\"El\", \"NLP\", \"es\", \"genial\"]\n",
        "print(f\"Con .join(): '{' '.join(palabras_a_unir)}'\")"
      ],
      "metadata": {
        "id": "2nA9GIfKFEG0",
        "outputId": "f19d5d8a-395b-4d97-a8f8-243fd630621f",
        "colab": {
          "base_uri": "https://localhost:8080/"
        }
      },
      "execution_count": null,
      "outputs": [
        {
          "output_type": "stream",
          "name": "stdout",
          "text": [
            "Con .join(): 'El NLP es genial'\n"
          ]
        }
      ]
    },
    {
      "cell_type": "markdown",
      "source": [
        "## 2. Funciones: Creacion de Herramientas a Medida\n",
        "\n",
        "Ya sabemos crear funciones, pero ahora vamos a usarlas como lo hacen los profesionales: para encapsular una lógica específica y hacer nuestro código más limpio y reutilizable. Una buena función hace **una sola cosa y la hace bien**.\n",
        "\n",
        "Vamos a crear una función que limpie un texto y otra que, usando la primera, cuente las palabras."
      ],
      "metadata": {
        "id": "zxwaAwpjFk1s"
      }
    },
    {
      "cell_type": "code",
      "source": [
        "# Función 1: Especializada en limpiar texto\n",
        "def limpiar_texto(texto):\n",
        "    \"\"\"Limpia un texto removiendo caracteres de puntuación comunes.\"\"\"\n",
        "    caracteres_especiales = ['.', ',', '!', '?', ';', ':']\n",
        "    texto_limpio = texto\n",
        "    for char in caracteres_especiales:\n",
        "        texto_limpio = texto_limpio.replace(char, '')\n",
        "    return texto_limpio.lower() # Devuelve el texto limpio y en minúsculas"
      ],
      "metadata": {
        "id": "qyRpmIy4FED_"
      },
      "execution_count": null,
      "outputs": []
    },
    {
      "cell_type": "code",
      "source": [
        "# Función 2: Especializada en contar palabras\n",
        "def contar_palabras(texto):\n",
        "    \"\"\"Usa limpiar_texto() para procesar el texto y luego cuenta las palabras.\"\"\"\n",
        "    texto_procesado = limpiar_texto(texto) # ¡Reutilizamos nuestra primera función!\n",
        "    palabras = texto_procesado.split()\n",
        "    return len(palabras)"
      ],
      "metadata": {
        "id": "Gq9OBViXFEBF"
      },
      "execution_count": null,
      "outputs": []
    },
    {
      "cell_type": "code",
      "source": [
        "# --- Uso de las funciones ---\n",
        "mi_texto = \"¡Hola, mundo! ¿Listo/a para aprender sobre Procesamiento del Lenguaje Natural?\"\n",
        "cantidad = contar_palabras(mi_texto)\n",
        "\n",
        "print(f\"El texto original era: '{mi_texto}'\")\n",
        "print(f\"Después de limpiarlo y contarlo, tiene {cantidad} palabras.\")"
      ],
      "metadata": {
        "id": "dWe0-2XFFD-J",
        "outputId": "58e494f2-54b7-41c1-8aac-99e9d6f02062",
        "colab": {
          "base_uri": "https://localhost:8080/"
        }
      },
      "execution_count": null,
      "outputs": [
        {
          "output_type": "stream",
          "name": "stdout",
          "text": [
            "El texto original era: '¡Hola, mundo! ¿Listo/a para aprender sobre Procesamiento del Lenguaje Natural?'\n",
            "Después de limpiarlo y contarlo, tiene 10 palabras.\n"
          ]
        }
      ]
    },
    {
      "cell_type": "markdown",
      "source": [
        "## 3. Programación Orientada a Objetos (POO): Un Código más Inteligente\n",
        "\n",
        "La POO es un paradigma para organizar el código. La idea es simple: en lugar de tener datos y funciones por separado, los agrupamos en \"objetos\" que tienen tanto los datos (atributos) como las funciones que operan sobre esos datos (métodos).\n",
        "\n",
        "* **Clase**: Es el \"plano\" o la \"receta\". Define cómo serán los objetos.\n",
        "* **Objeto (o instancia)**: Es la \"casa\" construida a partir del plano. Es una entidad real con la que interactuamos.\n",
        "* **`__init__(self, ...)`**: El \"constructor\". Es un método especial que se ejecuta al crear un nuevo objeto para inicializar sus atributos.\n",
        "* **`self`**: Se refiere al objeto mismo. Así es como el objeto accede a sus propios datos y métodos.\n",
        "\n",
        "Vamos a crear una clase `ProcesadorTexto` que encapsule un texto y todas las operaciones que queremos hacer con él."
      ],
      "metadata": {
        "id": "ZKuKy45kGOnq"
      }
    },
    {
      "cell_type": "code",
      "source": [
        "# Definiendo el \"plano\" para nuestros procesadores de texto\n",
        "class ProcesadorTexto:\n",
        "    # El constructor: se ejecuta cuando creamos un objeto con ProcesadorTexto(\"...\")\n",
        "    def __init__(self, texto):\n",
        "        print(f\"✨ Creando un nuevo procesador para el texto: '{texto[:30]}...'\")\n",
        "        self.texto_original = texto\n",
        "        self.texto_limpio = self.texto_original.lower().strip('.,!?')\n",
        "        self.palabras = self.texto_limpio.split()\n",
        "\n",
        "    # Un método para contar palabras\n",
        "    def contar_palabras(self):\n",
        "        return len(self.palabras)\n",
        "\n",
        "    # Un método para contar palabras únicas (sin repeticiones)\n",
        "    def contar_palabras_unicas(self):\n",
        "        return len(set(self.palabras)) # 'set' elimina duplicados automáticamente\n",
        "\n",
        "    # Un método para calcular la frecuencia de cada palabra\n",
        "    def calcular_frecuencia(self):\n",
        "        frecuencia = {}\n",
        "        for palabra in self.palabras:\n",
        "            frecuencia[palabra] = frecuencia.get(palabra, 0) + 1\n",
        "        return frecuencia"
      ],
      "metadata": {
        "id": "LacDK8uwGffa"
      },
      "execution_count": null,
      "outputs": []
    },
    {
      "cell_type": "code",
      "source": [
        "# --- Uso de la clase ---\n",
        "# Creamos un objeto (una instancia) de nuestra clase\n",
        "procesador = ProcesadorTexto(\"Python para NLP es genial porque Python es versátil.\")\n",
        "\n",
        "# Ahora podemos usar sus métodos\n",
        "print(f\"Total de palabras: {procesador.contar_palabras()}\")\n",
        "print(f\"Palabras únicas: {procesador.contar_palabras_unicas()}\")\n",
        "print(f\"Frecuencia de palabras: {procesador.calcular_frecuencia()}\")"
      ],
      "metadata": {
        "id": "gMPsbvS2G4Tr",
        "outputId": "6d651b75-2fb1-40e3-e19d-1787bd35e65c",
        "colab": {
          "base_uri": "https://localhost:8080/"
        }
      },
      "execution_count": null,
      "outputs": [
        {
          "output_type": "stream",
          "name": "stdout",
          "text": [
            "✨ Creando un nuevo procesador para el texto: 'Python para NLP es genial porq...'\n",
            "Total de palabras: 9\n",
            "Palabras únicas: 7\n",
            "Frecuencia de palabras: {'python': 2, 'para': 1, 'nlp': 1, 'es': 2, 'genial': 1, 'porque': 1, 'versátil': 1}\n"
          ]
        }
      ]
    },
    {
      "cell_type": "markdown",
      "source": [
        "## 4. Ejercicio Práctico 1: Expandiendo Nuestra Clase\n",
        "\n",
        "¡Tu turno! Vamos a agregarle más \"poder\" a nuestra clase `ProcesadorTexto`.\n",
        "\n",
        "**Tu objetivo:** Añadí un nuevo método a la clase llamado `calcular_longitud_media()`. Este método debe calcular y devolver la longitud promedio de las palabras en el texto.\n",
        "\n",
        "**Pista:** Deberás sumar la longitud de todas las palabras y dividirla por el número total de palabras."
      ],
      "metadata": {
        "id": "GWdGzt9OHKR_"
      }
    },
    {
      "cell_type": "code",
      "source": [
        "# Pega la clase ProcesadorTexto acá y añádile tu nuevo método.\n",
        "\n",
        "class ProcesadorTexto:\n",
        "    def __init__(self, texto):\n",
        "        self.texto_original = texto\n",
        "        self.texto_limpio = self.texto_original.lower().strip('.,!?')\n",
        "        self.palabras = self.texto_limpio.split()\n",
        "\n",
        "    def contar_palabras(self):\n",
        "        return len(self.palabras)\n",
        "\n",
        "    def contar_palabras_unicas(self):\n",
        "        return len(set(self.palabras))\n",
        "\n",
        "    def calcular_frecuencia(self):\n",
        "        frecuencia = {}\n",
        "        for palabra in self.palabras:\n",
        "            frecuencia[palabra] = frecuencia.get(palabra, 0) + 1\n",
        "        return frecuencia\n",
        "\n",
        "    # --- TU CÓDIGO ACÁ ---\n",
        "    # Añadí el método calcular_longitud_media(self)\n",
        "    def calcular_longitud_media(self):\n",
        "        if not self.palabras: # Evitar división por cero si el texto está vacío\n",
        "            return 0\n",
        "        total_letras = sum(len(palabra) for palabra in self.palabras)\n",
        "        return total_letras / len(self.palabras)\n",
        "\n",
        "\n",
        "# --- Probá tu nuevo método ---\n",
        "procesador_prueba = ProcesadorTexto(\"Los modelos de lenguaje son complejos.\")\n",
        "long_media = procesador_prueba.calcular_longitud_media()\n",
        "print(f\"La longitud media de las palabras es: {long_media:.2f}\") # :.2f formatea a 2 decimales"
      ],
      "metadata": {
        "id": "TkcXNML8HapM",
        "outputId": "0013c083-5c09-4e9b-8cab-3cb66d68e0ca",
        "colab": {
          "base_uri": "https://localhost:8080/"
        }
      },
      "execution_count": null,
      "outputs": [
        {
          "output_type": "stream",
          "name": "stdout",
          "text": [
            "La longitud media de las palabras es: 5.33\n"
          ]
        }
      ]
    },
    {
      "cell_type": "markdown",
      "source": [
        "## 5. Ejercicio Integrador Final: Tu Propia App de Análisis de Texto\n",
        "\n",
        "Llegó el momento de combinar todo lo que aprendimos. En este desafío final, no solo usarás Python para analizar texto, sino que también construirás una **aplicación web interactiva** con Gradio para mostrar tus resultados al mundo.\n",
        "\n",
        "**El Objetivo:** Crear una herramienta simple donde un usuario pueda pegar un texto y obtener un análisis básico de PLN al instante.\n",
        "\n",
        "No te daremos la solución completa. En su lugar, te daremos un mapa, las piezas clave y muchas pistas. Este es tu proyecto\n",
        "\n",
        "---\n",
        "\n",
        "### 🧠 Paso 1: El \"Cerebro\" de la Aplicación (La Función de Análisis)\n",
        "\n",
        "Primero, necesitamos una función principal que orqueste todo el trabajo. Esta función recibirá el texto del usuario, usará nuestra clase `ProcesadorTexto` para hacer los cálculos y preparará los resultados para ser mostrados.\n",
        "\n",
        "**Instrucciones:**\n",
        "1.  Completa el código de la función `analizar_texto(texto)` que te proporcionamos abajo.\n",
        "2.  Dentro de la función, debes **crear un objeto** de la clase `ProcesadorTexto`.\n",
        "3.  Usa los **métodos** de ese objeto (`.contar_palabras()`, `.contar_palabras_unicas()`, etc.) para obtener las métricas.\n",
        "4.  Formatea un `resumen` en un string amigable para el usuario.\n",
        "5.  La función debe **devolver dos cosas**: el string del resumen y el diccionario de frecuencias."
      ],
      "metadata": {
        "id": "sGYxOU_HHm6H"
      }
    },
    {
      "cell_type": "markdown",
      "source": [
        "### 🤖 Tu Compañero de Programación: Usa la IA para Aprender\n",
        "\n",
        "Como desarrollador/a del presente, tenes acceso a herramientas increíbles. **Te animamos a que uses asistentes de IA como ChatGPT, Gemini, Copilot, etc., como si fueran tu tutor personal.**\n",
        "\n",
        "No se trata de pedirle la solución completa, sino de hacerle preguntas inteligentes para resolver los \"TODO\" del código. Algunos ejemplos de prompts que podrías usar:\n",
        "\n",
        "* *\"Tengo una clase en Python llamada `ProcesadorTexto` que se inicializa con un texto ¿Cómo creo un objeto o instancia de esa clase?\"*\n",
        "* *\"En Python ¿cómo puedo devolver dos variables (un string y un diccionario) desde una función?\"*\n",
        "* *\"Tengo un diccionario de frecuencias de palabras en Python ¿Cómo encuentro la clave (la palabra) que tiene el valor más alto (la mayor frecuencia)?\"*\n",
        "* *\"Explícame qué hace el componente `gr.JSON` en la librería Gradio.\"*\n",
        "* *\"Mi código de Gradio no funciona. ¿Podes ayudarme a depurarlo? Acá está mi función y mi `gr.Interface`...\"*\n",
        "\n",
        "¡Experimenta! Preguntar es la mejor forma de aprender.\n",
        "\n",
        "---"
      ],
      "metadata": {
        "id": "ffDVAaeTKmd1"
      }
    },
    {
      "cell_type": "code",
      "source": [
        "# Asegúrate de que Gradio esté instalado\n",
        "!pip install gradio -q\n",
        "import gradio as gr"
      ],
      "metadata": {
        "id": "kP1BUkt8LdRQ"
      },
      "execution_count": 1,
      "outputs": []
    },
    {
      "cell_type": "code",
      "source": [
        "# --- Pieza Clave: La Clase que ya construimos ---\n",
        "# La necesitas para que tu función de análisis pueda usarla.\n",
        "class ProcesadorTexto:\n",
        "    def __init__(self, texto):\n",
        "        self.texto_original = texto\n",
        "        self.texto_limpio = self.texto_original.lower().strip('.,!?')\n",
        "        palabras_con_stopwords = self.texto_limpio.split()\n",
        "\n",
        "        # Lista básica de stopwords en español (puedes añadir más si lo necesitas)\n",
        "        stopwords = set([\n",
        "            'el', 'la', 'los', 'las', 'un', 'una', 'unos', 'unas',\n",
        "            'y', 'o', 'u', 'a', 'de', 'en', 'por', 'para', 'con', 'sin',\n",
        "            'sobre', 'entre', 'hasta', 'desde', 'durante', 'mediante',\n",
        "            'según', 'versus', 'vía', 'que', 'quien', 'quienes', 'cual',\n",
        "            'cuales', 'cuyo', 'cuyos', 'cuya', 'cuyas', 'donde', 'cuando',\n",
        "            'como', 'cuanto', 'cuanta', 'cuantos', 'cuantas', 'porque',\n",
        "            'para', 'si', 'aunque', 'mientras', 'luego', 'pues', 'sino',\n",
        "            'es', 'ser', 'estar', 'haber', 'tener', 'hacer', 'poder',\n",
        "            'decir', 'ir', 'ver', 'dar', 'saber', 'querer', 'llegar',\n",
        "            'pasar', 'deber', 'poner', 'parecer', 'quedar', 'creer',\n",
        "            'hablar', 'llevar', 'dejar', 'seguir', 'encontrar', 'pensar',\n",
        "            'llamar', 'venir', 'volver', 'tomar', 'conocer', 'sentir',\n",
        "            'contar', 'empezar', 'esperar', 'buscar', 'existir', 'entrar',\n",
        "            'trabajar', 'escribir', 'perder', 'producir', 'ocurrir',\n",
        "            'suceder', 'necesitar', 'mantener', 'resultar', 'leer',\n",
        "            'caer', 'suponer', 'lograr', 'alcanzar', 'nacer', 'morir',\n",
        "            'quitar', 'evitar', 'impedir', 'permitir', 'convertir',\n",
        "            'significar', 'recordar', 'olvidar', 'comenzar', 'terminar',\n",
        "            'acabar', 'continuar', 'aparecer', 'desaparecer', 'cambiar',\n",
        "            'crecer', 'formar', 'considerar', 'requerir', 'solicitar',\n",
        "            'pedir', 'preguntar', 'responder', 'contestar', 'observar',\n",
        "            'indicar', 'mostrar', 'explicar', 'desarrollar', 'presentar',\n",
        "            'representar', 'establecer', 'determinar', 'definir',\n",
        "            'distinguir', 'comparar', 'contrastar', 'relacionar',\n",
        "            'mencionar', 'citar', 'incluir', 'excluir', 'aceptar',\n",
        "            'rechazar', 'aprobar', 'desaprobar', 'confirmar', 'negar',\n",
        "            'afirmar', 'opinar', 'creer', 'considerar', 'imaginar',\n",
        "            'suponer', 'recordar', 'olvidar', 'comprender', 'entender',\n",
        "            'aprender', 'enseñar', 'estudiar', 'investigar', 'analizar',\n",
        "            'sintetizar', 'resumir', 'generalizar', 'especializar',\n",
        "            'clasificar', 'ordenar', 'organizar', 'estructurar',\n",
        "            'planificar', 'diseñar', 'crear', 'inventar', 'descubrir',\n",
        "            'explorar', 'examinar', 'evaluar', 'criticar', 'juzgar',\n",
        "            'decidir', 'elegir', 'seleccionar', 'optar', 'preferir',\n",
        "            'proponer', 'sugerir', 'aconsejar', 'recomendar', 'persuadir',\n",
        "            'convencer', 'animar', 'desanimar', 'motivar', 'desmotivar',\n",
        "            'estimular', 'frenar', 'acelerar', 'retardar', 'facilitar',\n",
        "            'dificultar', 'simplificar', 'complicar', 'aumentar', 'disminuir',\n",
        "            'reducir', 'ampliar', 'expandir', 'contraer', 'fortalecer',\n",
        "            'debilitar', 'mejorar', 'empeorar', 'innovar', 'adaptar',\n",
        "            'modificar', 'transformar', 'construir', 'destruir', 'reparar',\n",
        "            'sustituir', 'reemplazar', 'utilizar', 'emplear', 'usar',\n",
        "            'manejar', 'controlar', 'dirigir', 'gestionar', 'administrar',\n",
        "            'organizar', 'coordinar', 'colaborar', 'participar', 'contribuir',\n",
        "            'ayudar', 'apoyar', 'asistir', 'atender', 'servir', 'recibir',\n",
        "            'enviar', 'mandar', 'entregar', 'distribuir', 'comunicar',\n",
        "            'informar', 'anunciar', 'publicar', 'difundir', 'transmitir',\n",
        "            'recoger', 'reunir', 'juntar', 'separar', 'dividir', 'unir',\n",
        "            'asociar', 'conectar', 'desconectar', 'enlazar', 'vincular',\n",
        "            'romper', 'quebrar', 'funcionar', 'operar', 'actuar', 'reaccionar',\n",
        "            'interactuar', 'depender', 'dependiente', 'independiente',\n",
        "            'necesario', 'importante', 'posible', 'imposible', 'probable',\n",
        "            'improbable', 'evidente', 'claro', 'oscuro', 'simple', 'complejo',\n",
        "            'fácil', 'difícil', 'bueno', 'malo', 'grande', 'pequeño', 'alto',\n",
        "            'bajo', 'largo', 'corto', 'ancho', 'estrecho', 'nuevo', 'viejo',\n",
        "            'joven', 'viejo', 'rápido', 'lento', 'fuerte', 'débil', 'duro',\n",
        "            'blando', 'ligero', 'pesado', 'limpio', 'sucio', 'frío', 'calor',\n",
        "            'caliente', 'frío', 'feliz', 'triste', 'contento', 'enojado',\n",
        "            'sorprendido', 'asustado', 'cansado', 'aburrido', 'interesante',\n",
        "            'aburrido', 'listo', 'inteligente', 'tonto', 'amable', 'antipático',\n",
        "            'generoso', 'egoísta', 'valiente', 'cobarde', 'honesto', 'deshonesto',\n",
        "            'rico', 'pobre', 'cerca', 'lejos', 'dentro', 'fuera', 'arriba',\n",
        "            'abajo', 'delante', 'detrás', 'izquierda', 'derecha', 'aquí', 'allí',\n",
        "            'allá', 'esto', 'eso', 'aquello', 'este', 'ese', 'aquel', 'estos',\n",
        "            'esos', 'aquellos', 'esta', 'esa', 'aquella', 'estas', 'esas',\n",
        "            'aquellas', 'mío', 'tuyo', 'suyo', 'nuestro', 'vuestro', 'míos',\n",
        "            'tuyos', 'suyos', 'nuestros', 'vuestros', 'mía', 'tuya', 'suya',\n",
        "            'nuestra', 'vuestra', 'mías', 'tuyas', 'suyas', 'nuestras',\n",
        "            'vuestras', 'mismo', 'misma', 'mismos', 'mismas', 'otro', 'otra',\n",
        "            'otros', 'otras', 'todo', 'toda', 'todos', 'todas', 'mucho',\n",
        "            'mucha', 'muchos', 'muchas', 'poco', 'poca', 'pocos', 'pocas',\n",
        "            'varios', 'varias', 'alguno', 'alguna', 'algunos', 'algunas',\n",
        "            'ninguno', 'ninguna', 'ningunos', 'ningunas', 'cada', 'cierto',\n",
        "            'cierta', 'ciertos', 'ciertas', 'demasiado', 'bastante', 'poco',\n",
        "            'más', 'menos', 'muy', 'tan', 'tanto', 'tanta', 'tantos', 'tantas',\n",
        "            'siempre', 'nunca', 'jamás', 'aún', 'todavía', 'ya', 'aún',\n",
        "            'todavía', 'siempre', 'nunca', 'jamás', 'aún', 'todavía', 'ya',\n",
        "            'siempre', 'nunca', 'jamás', 'aún', 'todavía', 'ya', 'ayer',\n",
        "            'hoy', 'mañana', 'pasado', 'anteayer', 'anoche', 'pronto',\n",
        "            'tarde', 'temprano', 'ahora', 'después', 'luego', 'antes',\n",
        "            'mientras', 'siempre', 'nunca', 'jamás', 'aún', 'todavía',\n",
        "            'ya', 'mismo', 'misma', 'mismos', 'mismas', 'propio', 'propia',\n",
        "            'propios', 'propias', 'cierto', 'cierta', 'ciertos', 'ciertas',\n",
        "            'tal', 'tales', 'cual', 'cuales', 'cuyo', 'cuyos', 'cuya',\n",
        "            'cuyas', 'donde', 'cuando', 'como', 'cuanto', 'cuanta',\n",
        "            'cuantos', 'cuantas', 'porque', 'para', 'si', 'aunque',\n",
        "            'mientras', 'luego', 'pues', 'sino', 'muy', 'más', 'menos',\n",
        "            'ya', 'así', 'bien', 'mal', 'siempre', 'nunca', 'jamás', 'acaso',\n",
        "            'quizás', 'quizá', 'tal vez', 'probablemente', 'seguramente',\n",
        "            'ciertamente', 'solo', 'solamente', 'único', 'única', 'aún',\n",
        "            'todavía', 'siempre', 'nunca', 'jamás', 'muy', 'más', 'menos',\n",
        "            'ya', 'así', 'bien', 'mal', 'quizás', 'quizá', 'tal vez',\n",
        "            'probablemente', 'seguramente', 'ciertamente', 'solo',\n",
        "            'solamente', 'aún', 'todavía', 'del', 'al', 'se', 'su', 'le', 'no'\n",
        "        ])\n",
        "\n",
        "        # Filtra las palabras, excluyendo las que están en el set de stopwords\n",
        "        self.palabras = [palabra for palabra in palabras_con_stopwords if palabra not in stopwords]\n",
        "\n",
        "\n",
        "    # Un método para contar palabras\n",
        "    # Este método ahora contará palabras *sin* stopwords\n",
        "    def contar_palabras(self):\n",
        "        return len(self.palabras)\n",
        "\n",
        "    # Un método para contar palabras únicas (sin repeticiones y sin stopwords)\n",
        "    def contar_palabras_unicas(self):\n",
        "        return len(set(self.palabras)) # 'set' elimina duplicados automáticamente\n",
        "\n",
        "    # Un método para calcular la frecuencia de cada palabra\n",
        "    # Este método ahora calculará la frecuencia de palabras *sin* stopwords\n",
        "    def calcular_frecuencia(self):\n",
        "        frecuencia = {}\n",
        "        for palabra in self.palabras:\n",
        "            frecuencia[palabra] = frecuencia.get(palabra, 0) + 1\n",
        "        return frecuencia"
      ],
      "metadata": {
        "id": "1nEudrfiLdJ_"
      },
      "execution_count": 2,
      "outputs": []
    },
    {
      "cell_type": "code",
      "source": [
        "# --- PASO 1: Completa la función \"Cerebro\" ---\n",
        "def analizar_texto(texto):\n",
        "    \"\"\"\n",
        "    Esta función es el núcleo de nuestra app.\n",
        "    Recibe un texto, lo procesa con nuestra clase y devuelve los resultados.\n",
        "    \"\"\"\n",
        "    # Condición de seguridad por si el usuario no escribe nada.\n",
        "    if not texto.strip():\n",
        "        return \"Por favor, ingresa algo de texto para analizar.\", {}\n",
        "\n",
        "    # TODO 1: Crea una instancia de la clase ProcesadorTexto\n",
        "    # Pista: procesador = ProcesadorTexto(texto_ingresado)\n",
        "\n",
        "    # TODO 2: Usa los métodos del objeto para obtener:\n",
        "    # - Total de palabras\n",
        "    # - Palabras únicas\n",
        "    # - Diccionario de frecuencias\n",
        "\n",
        "    # TODO 3: (Opcional) Encuentra la palabra más frecuente\n",
        "    # Pista: puedes usar max(diccionario, key=diccionario.get)\n",
        "\n",
        "    # TODO 4: Crea un string de resumen con formato\n",
        "    # Ejemplo de formato esperado:\n",
        "    \"\"\"\n",
        "    --- Resumen del Análisis ---\n",
        "    Total de Palabras: 25\n",
        "    Palabras Únicas: 20\n",
        "    Palabra Más Frecuente: 'python' (3 repeticiones)\n",
        "    \"\"\"\n",
        "\n",
        "    # TODO 5: Devuelve el resumen y el diccionario de frecuencias\n",
        "    # Pista: return resumen, frecuencia_diccionario"
      ],
      "metadata": {
        "id": "0oBBjlYy-JpV"
      },
      "execution_count": 3,
      "outputs": []
    },
    {
      "cell_type": "code",
      "source": [
        "# --- PASO 1: Completa la función \"Cerebro\" ---\n",
        "def analizar_texto(texto):\n",
        "    \"\"\"\n",
        "    Esta función es el núcleo de nuestra app.\n",
        "    Recibe un texto, lo procesa con nuestra clase y devuelve los resultados.\n",
        "    \"\"\"\n",
        "    # Condición de seguridad por si el usuario no escribe nada.\n",
        "    if not texto.strip():\n",
        "        return \"Por favor, ingresa algo de texto para analizar.\", {}\n",
        "\n",
        "    # TODO 1: Crea una instancia de la clase ProcesadorTexto\n",
        "    procesador = ProcesadorTexto(texto)\n",
        "\n",
        "    # TODO 2: Usa los métodos del objeto para obtener:\n",
        "    # - Total de palabras\n",
        "    # - Palabras únicas\n",
        "    # - Diccionario de frecuencias\n",
        "    total_palabras = procesador.contar_palabras()\n",
        "    palabras_unicas = procesador.contar_palabras_unicas()\n",
        "    frecuencia_diccionario = procesador.calcular_frecuencia()\n",
        "\n",
        "    # TODO 3: (Opcional) Encuentra la palabra más frecuente\n",
        "    palabra_mas_frecuente = \"N/A\"\n",
        "    if frecuencia_diccionario: # Asegúrate de que el diccionario no esté vacío\n",
        "      palabra_mas_frecuente = max(frecuencia_diccionario, key=frecuencia_diccionario.get)\n",
        "      repeticiones_mas_frecuente = frecuencia_diccionario[palabra_mas_frecuente]\n",
        "    else:\n",
        "      repeticiones_mas_frecuente = 0\n",
        "\n",
        "\n",
        "    # TODO 4: Crea un string de resumen con formato\n",
        "    resumen = f\"\"\"\n",
        "--- Resumen del Análisis ---\n",
        "Total de Palabras: {total_palabras}\n",
        "Palabras Únicas: {palabras_unicas}\n",
        "\"\"\"\n",
        "    if palabra_mas_frecuente != \"N/A\":\n",
        "        resumen += f\"Palabra Más Frecuente: '{palabra_mas_frecuente}' ({repeticiones_mas_frecuente} repeticiones)\"\n",
        "\n",
        "\n",
        "    # TODO 5: Devuelve el resumen y el diccionario de frecuencias\n",
        "    return resumen, frecuencia_diccionario"
      ],
      "metadata": {
        "id": "RFlqTasHLdEQ"
      },
      "execution_count": 4,
      "outputs": []
    },
    {
      "cell_type": "markdown",
      "source": [
        "### 🎨 Paso 2: La \"Cara\" de la Aplicación (La Interfaz de Gradio)\n",
        "\n",
        "Ahora que tenemos el \"cerebro\", vamos a conectarlo a una interfaz gráfica. Ya vimos Gradio, así que esta parte te resultará familiar.\n",
        "\n",
        "**Instrucciones:**\n",
        "1.  Observa el esqueleto de `gr.Interface` que te damos.\n",
        "2.  Asegurate de que el parámetro `fn` apunte a tu función `analizar_texto`.\n",
        "3.  Definí los `inputs` y `outputs` correctamente. Queremos una caja de texto grande para la entrada y dos componentes de salida: uno para el resumen y otro para el diccionario de frecuencias.\n",
        "\n",
        "---"
      ],
      "metadata": {
        "id": "gXkqQJaHLJ48"
      }
    },
    {
      "cell_type": "code",
      "source": [
        "# --- PASO 2: Configura la Interfaz de Gradio ---\n",
        "demo = gr.Interface(\n",
        "    # TODO 6: Apunta 'fn' a tu función de análisis\n",
        "    fn=analizar_texto,  # Reemplaza con el nombre de tu función\n",
        "\n",
        "    # Configuración de la entrada\n",
        "    inputs=gr.Textbox(lines=10, placeholder=\"Escribí o pega un texto acá para analizarlo...\"),\n",
        "\n",
        "    # TODO 7: Configura las salidas\n",
        "    # Necesitas dos componentes:\n",
        "    # 1. Un Textbox para el resumen (gr.Textbox())\n",
        "    # 2. Un JSON para el diccionario (gr.JSON())\n",
        "    outputs=[\n",
        "        gr.Textbox(label=\"Resumen del Análisis\"),\n",
        "        gr.JSON(label=\"Frecuencia de Palabras\")\n",
        "    ],\n",
        "\n",
        "    # Detalles de la interfaz\n",
        "    title=\"📊 Analizador de Texto Interactivo\",\n",
        "    description=\"Creado por VOS con Python y Gradio. Introducí texto y descubrí sus secretos.\",\n",
        "    allow_flagging=\"never\"\n",
        ")\n",
        "\n",
        "# TODO 8: Descomenta esta línea cuando tu código esté listo\n",
        "# demo.launch(share=True)  # share=True crea un enlace público temporal"
      ],
      "metadata": {
        "colab": {
          "base_uri": "https://localhost:8080/"
        },
        "id": "yGIOzhhQ_FUx",
        "outputId": "8a478efe-f0e1-48c5-8647-7ee224ff6584"
      },
      "execution_count": 5,
      "outputs": [
        {
          "output_type": "stream",
          "name": "stderr",
          "text": [
            "/usr/local/lib/python3.12/dist-packages/gradio/interface.py:415: UserWarning: The `allow_flagging` parameter in `Interface` is deprecated. Use `flagging_mode` instead.\n",
            "  warnings.warn(\n"
          ]
        }
      ]
    },
    {
      "cell_type": "code",
      "source": [
        "# --- PASO 2: Configura la Interfaz de Gradio ---\n",
        "demo = gr.Interface(\n",
        "    # TODO 6: Apunta 'fn' a tu función de análisis\n",
        "    fn=analizar_texto,  # Reemplaza con el nombre de tu función\n",
        "\n",
        "    # Configuración de la entrada\n",
        "    inputs=gr.Textbox(lines=10, placeholder=\"Escribí o pega un texto acá para analizarlo...\"),\n",
        "\n",
        "    # TODO 7: Configura las salidas\n",
        "    # Necesitas dos componentes:\n",
        "    # 1. Un Textbox para el resumen (gr.Textbox())\n",
        "    # 2. Un JSON para el diccionario (gr.JSON())\n",
        "    outputs=[\n",
        "        gr.Textbox(label=\"Resumen del Análisis\"),\n",
        "        gr.JSON(label=\"Frecuencia de Palabras\")\n",
        "    ],\n",
        "\n",
        "    # Detalles de la interfaz\n",
        "    title=\"📊 Analizador de Texto Interactivo\",\n",
        "    description=\"Creado por VOS con Python y Gradio. Introducí texto y descubrí sus secretos.\",\n",
        "    #allow_flagging=\"never\" # Parámetro obsoleto\n",
        "    flagging_mode=\"never\" # Usar flagging_mode en su lugar\n",
        ")\n",
        "\n",
        "# TODO 8: Descomenta esta línea cuando tu código esté listo\n",
        "demo.launch(share=True)  # share=True crea un enlace público temporal"
      ],
      "metadata": {
        "id": "XAn8c8zJLXbU",
        "outputId": "4cb1c9ec-b169-4642-cf81-fcf0138f940f",
        "colab": {
          "base_uri": "https://localhost:8080/",
          "height": 611
        }
      },
      "execution_count": 6,
      "outputs": [
        {
          "output_type": "stream",
          "name": "stdout",
          "text": [
            "Colab notebook detected. To show errors in colab notebook, set debug=True in launch()\n",
            "* Running on public URL: https://0f7b6738c62fbefeef.gradio.live\n",
            "\n",
            "This share link expires in 1 week. For free permanent hosting and GPU upgrades, run `gradio deploy` from the terminal in the working directory to deploy to Hugging Face Spaces (https://huggingface.co/spaces)\n"
          ]
        },
        {
          "output_type": "display_data",
          "data": {
            "text/plain": [
              "<IPython.core.display.HTML object>"
            ],
            "text/html": [
              "<div><iframe src=\"https://0f7b6738c62fbefeef.gradio.live\" width=\"100%\" height=\"500\" allow=\"autoplay; camera; microphone; clipboard-read; clipboard-write;\" frameborder=\"0\" allowfullscreen></iframe></div>"
            ]
          },
          "metadata": {}
        },
        {
          "output_type": "execute_result",
          "data": {
            "text/plain": []
          },
          "metadata": {},
          "execution_count": 6
        }
      ]
    },
    {
      "cell_type": "markdown",
      "source": [
        "---\n",
        "## Glosario Rápido de la Clase 2\n",
        "\n",
        "* **Método**: Una función que \"pertenece\" a un objeto (ej: `mi_texto.strip()`).\n",
        "* **Clase**: El \"plano\" o plantilla para crear objetos. Define sus atributos y métodos.\n",
        "* **Objeto/Instancia**: Una entidad concreta creada a partir de una clase.\n",
        "* **Atributo**: Una variable que \"pertenece\" a un objeto (ej: `procesador.palabras`).\n",
        "* **`self`**: Palabra clave dentro de una clase que se refiere a la instancia actual del objeto.\n",
        "* **POO (Programación Orientada a Objetos)**: Un estilo de programación basado en la idea de agrupar datos y funciones en objetos.\n",
        "---"
      ],
      "metadata": {
        "id": "m7ugpW26Irjv"
      }
    }
  ]
}